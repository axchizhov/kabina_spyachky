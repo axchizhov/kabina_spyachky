{
 "cells": [
  {
   "cell_type": "code",
   "execution_count": null,
   "metadata": {},
   "outputs": [],
   "source": [
    "# @title Initial setup\n",
    "\n",
    "# Install diffusers and fix the version\n",
    "!git clone https://github.com/huggingface/diffusers\n",
    "%cd diffusers\n",
    "!git checkout c4d282360184686f7d4a66787a4be9898cf1b8b0\n",
    "!pip install -e .\n",
    "\n",
    "# Install LoRa for Dreambooth requirements\n",
    "%cd examples/dreambooth/\n",
    "!pip install -r requirements.txt\n",
    "%cd ../../..\n",
    "\n",
    "# Get the data\n",
    "!git clone https://github.com/axchizhov/kabina_spyachky\n",
    "\n",
    "# Misc\n",
    "!pip install wandb\n",
    "\n",
    "# Setup\n",
    "import wandb\n",
    "import accelerate\n",
    "\n",
    "\n",
    "accelerate.utils.write_basic_config()\n",
    "\n",
    "\n",
    "# TODO: set_seed()"
   ]
  },
  {
   "cell_type": "code",
   "execution_count": null,
   "metadata": {},
   "outputs": [],
   "source": [
    "# @title Set the inputs\n",
    "model_name = \"runwayml/stable-diffusion-v1-5\" # @param {type:'string'}\n",
    "output_dir = \"output\" # @param {type:'string'}\n",
    "reference_subject_dir = \"/content/kabina_spyachky/Mathilda/from_movie_many\" # @param {type:'string'}\n",
    "\n",
    "\n",
    "# @markdown #### Wandb monitoring:\n",
    "enable_monitoring = True # @param {type:\"boolean\"}\n",
    "wandb_project_name = \"kabina\" # @param {type:'string'}\n",
    "wandb.init(project=wandb_project_name) if enable_monitoring else wandb.init(mode=\"disabled\")"
   ]
  },
  {
   "cell_type": "code",
   "execution_count": null,
   "metadata": {},
   "outputs": [],
   "source": [
    "# @title Run the experiment\n",
    "\n",
    "script = \"diffusers/examples/dreambooth/train_dreambooth_lora.py\"\n",
    "\n",
    "!accelerate launch $script \\\n",
    "  --pretrained_model_name_or_path=$model_name  \\\n",
    "  --instance_data_dir=$reference_subject_dir \\\n",
    "  --output_dir=$output_dir \\\n",
    "  --instance_prompt=\"a photo of sks girl\" \\\n",
    "  --resolution=512 \\\n",
    "  --train_batch_size=1 \\\n",
    "  --gradient_accumulation_steps=1 \\\n",
    "  --checkpointing_steps=100 \\\n",
    "  --learning_rate=1e-4 \\\n",
    "  --report_to=\"wandb\" \\\n",
    "  --lr_scheduler=\"constant\" \\\n",
    "  --lr_warmup_steps=0 \\\n",
    "  --max_train_steps=300 \\\n",
    "  --validation_prompt=\"A photo of sks girl with a gun\" \\\n",
    "  --validation_epochs=50 \\\n",
    "  --seed=\"0\" \\\n",
    "  --report_to=\"wandb\"\n",
    "\n",
    "wandb.finish()"
   ]
  },
  {
   "cell_type": "code",
   "execution_count": null,
   "metadata": {},
   "outputs": [],
   "source": [
    "# TODO: upload weights to wandb"
   ]
  }
 ],
 "metadata": {
  "kernelspec": {
   "display_name": ".venv",
   "language": "python",
   "name": "python3"
  },
  "language_info": {
   "codemirror_mode": {
    "name": "ipython",
    "version": 3
   },
   "file_extension": ".py",
   "mimetype": "text/x-python",
   "name": "python",
   "nbconvert_exporter": "python",
   "pygments_lexer": "ipython3",
   "version": "3.10.10"
  },
  "orig_nbformat": 4
 },
 "nbformat": 4,
 "nbformat_minor": 2
}
