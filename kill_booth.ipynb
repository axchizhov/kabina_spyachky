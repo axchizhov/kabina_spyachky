{
 "cells": [
  {
   "cell_type": "code",
   "execution_count": null,
   "metadata": {},
   "outputs": [],
   "source": [
    "# @title Initial setup\n",
    "\n",
    "# Install diffusers and fix the version\n",
    "!git clone https://github.com/huggingface/diffusers\n",
    "%cd diffusers\n",
    "!git checkout c4d282360184686f7d4a66787a4be9898cf1b8b0\n",
    "!pip install -e .\n",
    "\n",
    "# Install LoRa for Dreambooth requirements\n",
    "%cd examples/dreambooth/\n",
    "!pip install -r requirements.txt\n",
    "%cd ../../..\n",
    "\n",
    "# Misc\n",
    "!pip install wandb\n",
    "\n",
    "# Setup\n",
    "import wandb\n",
    "import accelerate\n",
    "\n",
    "\n",
    "accelerate.utils.write_basic_config()\n",
    "\n",
    "\n",
    "# TODO: set_seed()"
   ]
  }
 ],
 "metadata": {
  "kernelspec": {
   "display_name": ".venv",
   "language": "python",
   "name": "python3"
  },
  "language_info": {
   "codemirror_mode": {
    "name": "ipython",
    "version": 3
   },
   "file_extension": ".py",
   "mimetype": "text/x-python",
   "name": "python",
   "nbconvert_exporter": "python",
   "pygments_lexer": "ipython3",
   "version": "3.10.10"
  },
  "orig_nbformat": 4
 },
 "nbformat": 4,
 "nbformat_minor": 2
}
